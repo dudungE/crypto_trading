{
 "cells": [
  {
   "cell_type": "code",
   "execution_count": 47,
   "id": "3628478e-610a-40cf-ba16-1a7ada0e521b",
   "metadata": {},
   "outputs": [
    {
     "name": "stdout",
     "output_type": "stream",
     "text": [
      "0.0001003\n",
      "0\n"
     ]
    }
   ],
   "source": [
    "import pyupbit\n",
    "\n",
    "f = open('api_key.txt', 'r')\n",
    "access = f.read().splitlines()\n",
    "access[0]\n",
    "\n",
    "f = open('api_secret.txt', 'r')\n",
    "secret = f.read().splitlines()\n",
    "secret[0]\n",
    "\n",
    "access = access[0]         # 본인 값으로 변경\n",
    "secret = secret[0]         # 본인 값으로 변경\n",
    "upbit = pyupbit.Upbit(access, secret)\n",
    "\n",
    "print(upbit.get_balance(\"KRW-BTC\"))     # KRW-BTC 조회\n",
    "print(upbit.get_balance(\"KRW\"))         # 보유 현금 조회"
   ]
  },
  {
   "cell_type": "code",
   "execution_count": null,
   "id": "3437f35b-5ce4-4066-8ba2-ad0b8ad86b4b",
   "metadata": {},
   "outputs": [],
   "source": []
  },
  {
   "cell_type": "code",
   "execution_count": null,
   "id": "1ad8b834-5085-4a0a-b01d-8cb86f6eba64",
   "metadata": {},
   "outputs": [],
   "source": []
  }
 ],
 "metadata": {
  "kernelspec": {
   "display_name": "upbit",
   "language": "python",
   "name": "upbit"
  },
  "language_info": {
   "codemirror_mode": {
    "name": "ipython",
    "version": 3
   },
   "file_extension": ".py",
   "mimetype": "text/x-python",
   "name": "python",
   "nbconvert_exporter": "python",
   "pygments_lexer": "ipython3",
   "version": "3.8.17"
  }
 },
 "nbformat": 4,
 "nbformat_minor": 5
}
